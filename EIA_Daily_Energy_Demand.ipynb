{
 "cells": [
  {
   "cell_type": "markdown",
   "metadata": {},
   "source": [
    "# Fetch U.S. Daily Energy Demand from EIA API\n",
    "\n",
    "This notebook fetches hourly electricity demand data from the U.S. Energy Information Administration (EIA) API and aggregates it to daily demand. Replace `YOUR_API_KEY` with your actual EIA API key."
   ]
  },
  {
   "cell_type": "code",
   "execution_count": null,
   "metadata": {},
   "outputs": [],
   "source": [
    "# Install required libraries if not already installed\n",
    "!pip install requests pandas matplotlib"
   ]
  },
  {
   "cell_type": "code",
   "execution_count": null,
   "metadata": {},
   "outputs": [
    {
     "ename": "",
     "evalue": "",
     "output_type": "error",
     "traceback": [
      "\u001b[1;31mRunning cells with 'us-weather-energy-analysis (Python 3.12.9)' requires the ipykernel package.\n",
      "\u001b[1;31mInstall 'ipykernel' into the Python environment. \n",
      "\u001b[1;31mCommand: 'c:/Users/HP/Desktop/BYU-pathway/pioneeracademy/project1-energy-analysis/.venv/Scripts/python.exe -m pip install ipykernel -U --force-reinstall'"
     ]
    }
   ],
   "source": [
    "import requests\n",
    "import pandas as pd\n",
    "import os\n",
    "\n",
    "# Set your EIA API key\n",
    "API_KEY = \"YOUR_API_KEY\"  # Replace with your actual API key or use os.getenv(\"EIA_API_KEY\")\n",
    "BASE_URL = \"https://api.eia.gov/v2/\"\n",
    "ENDPOINT = \"electricity/rto/region-sub-ba-data/data/\"\n",
    "\n",
    "# Construct API request\n",
    "url = f\"{BASE_URL}{ENDPOINT}\"\n",
    "params = {\n",
    "    \"api_key\": API_KEY,\n",
    "    \"frequency\": \"hourly\",\n",
    "    \"data[0]\": \"value\",\n",
    "    \"start\": \"2025-01-01\",\n",
    "    \"end\": \"2025-07-20\",\n",
    "    \"sort[0][column]\": \"period\",\n",
    "    \"sort[0][direction]\": \"asc\",\n",
    "    \"offset\": 0,\n",
    "    \"length\": 5000\n",
    "}\n",
    "\n",
    "# Fetch data\n",
    "response = requests.get(url, params=params)\n",
    "if response.status_code == 200:\n",
    "    data = response.json()\n",
    "    if 'response' in data and 'data' in data['response']:\n",
    "        # Convert to DataFrame\n",
    "        df = pd.DataFrame(data['response']['data'])\n",
    "        \n",
    "        # Convert 'period' to datetime and aggregate to daily\n",
    "        df['period'] = pd.to_datetime(df['period'])\n",
    "        df_daily = df.groupby(df['period'].dt.date)['value'].sum().reset_index()\n",
    "        df_daily.columns = ['date', 'daily_demand_mwh']\n",
    "        \n",
    "        # Display first few rows\n",
    "        print(df_daily.head())\n",
    "        \n",
    "        # Save to CSV\n",
    "        df_daily.to_csv('us_daily_energy_demand.csv', index=False)\n",
    "    else:\n",
    "        print(\"Error in response:\", data.get('error', 'Unknown error'))\n",
    "else:\n",
    "    print(f\"Request failed with status code: {response.status_code}\")"
   ]
  },
  {
   "cell_type": "code",
   "execution_count": null,
   "metadata": {},
   "outputs": [],
   "source": [
    "# Visualize the data\n",
    "import matplotlib.pyplot as plt\n",
    "\n",
    "plt.figure(figsize=(10, 6))\n",
    "plt.plot(df_daily['date'], df_daily['daily_demand_mwh'], marker='o')\n",
    "plt.title('U.S. Daily Electricity Demand (2025)')\n",
    "plt.xlabel('Date')\n",
    "plt.ylabel('Demand (MWh)')\n",
    "plt.grid(True)\n",
    "plt.show()"
   ]
  },
  {
   "cell_type": "markdown",
   "metadata": {},
   "source": [
    "## Notes\n",
    "- Replace `YOUR_API_KEY` with your actual EIA API key.\n",
    "- The script fetches up to 5,000 rows. For more data, modify the `offset` parameter in a loop.\n",
    "- To filter by region, add `facets[parent][]=` (e.g., `CISO` for California ISO) to the `params` dictionary.\n",
    "- Data is saved to `us_daily_energy_demand.csv` in your working directory."
   ]
  }
 ],
 "metadata": {
  "kernelspec": {
   "display_name": "us-weather-energy-analysis",
   "language": "python",
   "name": "python3"
  },
  "language_info": {
   "codemirror_mode": {
    "name": "ipython",
    "version": 3
   },
   "file_extension": ".py",
   "mimetype": "text/x-python",
   "name": "python",
   "nbconvert_exporter": "python",
   "pygments_lexer": "ipython3",
   "version": "3.12.9"
  }
 },
 "nbformat": 4,
 "nbformat_minor": 4
}
